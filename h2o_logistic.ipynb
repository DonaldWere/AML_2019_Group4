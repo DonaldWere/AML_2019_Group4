{
  "nbformat": 4,
  "nbformat_minor": 0,
  "metadata": {
    "colab": {
      "name": "h2o_logistic.ipynb",
      "version": "0.3.2",
      "provenance": [],
      "collapsed_sections": [
        "Be7qUFbUQIEf",
        "tkECZp_OQIIx",
        "pT5rti3xQIN2",
        "XyiUJfmjQIT3",
        "FlRRHd1tQIYy",
        "31vx3mzhazNw"
      ]
    },
    "kernelspec": {
      "name": "python3",
      "display_name": "Python 3"
    }
  },
  "cells": [
    {
      "cell_type": "markdown",
      "metadata": {
        "id": "Be7qUFbUQIEf",
        "colab_type": "text"
      },
      "source": [
        "## Load libraries"
      ]
    },
    {
      "cell_type": "code",
      "metadata": {
        "id": "YxmGu2M5ynGG",
        "colab_type": "code",
        "colab": {}
      },
      "source": [
        "import os\n",
        "import pandas as pd\n",
        "import numpy as np\n",
        "import pickle\n",
        "\n",
        "import matplotlib.pyplot as plt\n",
        "%matplotlib inline\n",
        "\n",
        "from sklearn.preprocessing import OneHotEncoder\n",
        "from sklearn.preprocessing import StandardScaler\n"
      ],
      "execution_count": 0,
      "outputs": []
    },
    {
      "cell_type": "markdown",
      "metadata": {
        "id": "tkECZp_OQIIx",
        "colab_type": "text"
      },
      "source": [
        "## Working directories"
      ]
    },
    {
      "cell_type": "code",
      "metadata": {
        "id": "bULt2Xfgz6JM",
        "colab_type": "code",
        "outputId": "92d8e4a4-bc9b-4dc2-b735-6047df729666",
        "colab": {
          "base_uri": "https://localhost:8080/",
          "height": 34
        }
      },
      "source": [
        "print(os.getcwd())"
      ],
      "execution_count": 0,
      "outputs": [
        {
          "output_type": "stream",
          "text": [
            "/content\n"
          ],
          "name": "stdout"
        }
      ]
    },
    {
      "cell_type": "code",
      "metadata": {
        "id": "stf7YUivz6ap",
        "colab_type": "code",
        "colab": {
          "base_uri": "https://localhost:8080/",
          "height": 122
        },
        "outputId": "35269558-fba4-4846-f157-0ce5f2527849"
      },
      "source": [
        "from google.colab import drive\n",
        "drive.mount('/content/drive')"
      ],
      "execution_count": 6,
      "outputs": [
        {
          "output_type": "stream",
          "text": [
            "Go to this URL in a browser: https://accounts.google.com/o/oauth2/auth?client_id=947318989803-6bn6qk8qdgf4n4g3pfee6491hc0brc4i.apps.googleusercontent.com&redirect_uri=urn%3Aietf%3Awg%3Aoauth%3A2.0%3Aoob&scope=email%20https%3A%2F%2Fwww.googleapis.com%2Fauth%2Fdocs.test%20https%3A%2F%2Fwww.googleapis.com%2Fauth%2Fdrive%20https%3A%2F%2Fwww.googleapis.com%2Fauth%2Fdrive.photos.readonly%20https%3A%2F%2Fwww.googleapis.com%2Fauth%2Fpeopleapi.readonly&response_type=code\n",
            "\n",
            "Enter your authorization code:\n",
            "··········\n",
            "Mounted at /content/drive\n"
          ],
          "name": "stdout"
        }
      ]
    },
    {
      "cell_type": "markdown",
      "metadata": {
        "id": "D6LG_co-ynGO",
        "colab_type": "text"
      },
      "source": [
        "**directories and paths**"
      ]
    },
    {
      "cell_type": "code",
      "metadata": {
        "id": "ATl9gJKBynGQ",
        "colab_type": "code",
        "colab": {}
      },
      "source": [
        "# Set directories\n",
        "\n",
        "dirRawData = \"/content/drive/My Drive/AML/Projects/AML_2019/RawData/\"\n",
        "dirPData = \"/content/drive/My Drive/AML/Projects/AML_2019/PData/\"\n",
        "dirPOutput = \"/content/drive/My Drive/AML/Projects/AML_2019/POutput/\""
      ],
      "execution_count": 0,
      "outputs": []
    },
    {
      "cell_type": "markdown",
      "metadata": {
        "id": "pT5rti3xQIN2",
        "colab_type": "text"
      },
      "source": [
        "## Load data\n"
      ]
    },
    {
      "cell_type": "code",
      "metadata": {
        "id": "qOGnM0sSzVNP",
        "colab_type": "code",
        "colab": {}
      },
      "source": [
        "df_all = pd.read_csv(dirRawData + 'train.csv', \n",
        "                     na_values = 'NA')\n",
        "#df_all.head()"
      ],
      "execution_count": 0,
      "outputs": []
    },
    {
      "cell_type": "code",
      "metadata": {
        "id": "VEQMEhVLu9C7",
        "colab_type": "code",
        "colab": {}
      },
      "source": [
        "vars_all = df_all.columns.values\n",
        "var_dep = ['target']\n",
        "\n",
        "vars_notToUse = ['id']\n",
        "vars_ind = [var for var in vars_all if var not in (var_dep + vars_notToUse )]\n",
        "\n"
      ],
      "execution_count": 0,
      "outputs": []
    },
    {
      "cell_type": "code",
      "metadata": {
        "id": "rijfauUf2TYY",
        "colab_type": "code",
        "colab": {}
      },
      "source": [
        "vars_ind_numeric = list(df_all[vars_ind].columns[df_all[vars_ind].dtypes != 'object'])\n",
        "#vars_ind_numeric"
      ],
      "execution_count": 0,
      "outputs": []
    },
    {
      "cell_type": "code",
      "metadata": {
        "id": "tmWIDAo38KaG",
        "colab_type": "code",
        "colab": {}
      },
      "source": [
        "vars_ind_categorical = df_all.columns[df_all.dtypes == 'object'].tolist()\n",
        "#vars_ind_categorical "
      ],
      "execution_count": 0,
      "outputs": []
    },
    {
      "cell_type": "markdown",
      "metadata": {
        "id": "XyiUJfmjQIT3",
        "colab_type": "text"
      },
      "source": [
        "## One hot using sklearn"
      ]
    },
    {
      "cell_type": "code",
      "metadata": {
        "id": "W2pcvnNY337_",
        "colab_type": "code",
        "colab": {}
      },
      "source": [
        "vars_ind_onehot = []\n",
        "df_all_onehot = df_all.copy()\n",
        "for col in vars_ind_categorical:\n",
        "    #print(col)\n",
        "    enc_ = OneHotEncoder()\n",
        "    enc_.fit(df_all[[col]])\n",
        "    oh = enc_.transform(df_all[[col]]).toarray()\n",
        "    idx_mostFreq = np.argmax(oh.sum(axis = 0)) \n",
        "    oh = np.delete(oh, idx_mostFreq, axis=1)\n",
        "    oh_names = enc_.categories_[0]\n",
        "    oh_names = np.delete(oh_names, idx_mostFreq)\n",
        "    oh_names = col + '_X_' + oh_names\n",
        "    df_oh = pd.DataFrame(data = oh, columns = oh_names)\n",
        "    df_all_onehot = pd.concat([df_all_onehot, df_oh], axis = 1, sort = False,join = 'inner')\n",
        "    del df_all_onehot[col]\n",
        "    vars_ind_onehot.extend(oh_names)\n"
      ],
      "execution_count": 0,
      "outputs": []
    },
    {
      "cell_type": "code",
      "metadata": {
        "id": "5z9ZB8BO4iRH",
        "colab_type": "code",
        "outputId": "5aa7ee5e-725e-418d-f6af-80efc388e50a",
        "colab": {
          "base_uri": "https://localhost:8080/",
          "height": 34
        }
      },
      "source": [
        "df_all_onehot.shape"
      ],
      "execution_count": 13,
      "outputs": [
        {
          "output_type": "execute_result",
          "data": {
            "text/plain": [
              "(11962, 485)"
            ]
          },
          "metadata": {
            "tags": []
          },
          "execution_count": 13
        }
      ]
    },
    {
      "cell_type": "markdown",
      "metadata": {
        "id": "FlRRHd1tQIYy",
        "colab_type": "text"
      },
      "source": [
        "## Add fold variable"
      ]
    },
    {
      "cell_type": "markdown",
      "metadata": {
        "id": "ECePhCmpJZfK",
        "colab_type": "text"
      },
      "source": [
        "TODO\n",
        "\n",
        "- Create an instance of a random number generator (np.random.RandomState) with a seed of 2018 and call it rng.  \n",
        "- Use it to generate random integers (rng.randint()) between 0 and 10.  Generate as many numbers as there are rows of df_all \n",
        "- save this data to a new column in df_all called 'fold'"
      ]
    },
    {
      "cell_type": "code",
      "metadata": {
        "id": "RKaPG8cgJZfL",
        "colab_type": "code",
        "colab": {}
      },
      "source": [
        "rng = np.random.RandomState(2018)"
      ],
      "execution_count": 0,
      "outputs": []
    },
    {
      "cell_type": "code",
      "metadata": {
        "id": "f5-fK7NKJZfN",
        "colab_type": "code",
        "colab": {}
      },
      "source": [
        "fold = rng.randint(0, 10, df_all_onehot.shape[0])"
      ],
      "execution_count": 0,
      "outputs": []
    },
    {
      "cell_type": "code",
      "metadata": {
        "id": "OxRMqORCJZfP",
        "colab_type": "code",
        "colab": {}
      },
      "source": [
        "\n",
        "df_all_onehot['fold'] = fold"
      ],
      "execution_count": 0,
      "outputs": []
    },
    {
      "cell_type": "code",
      "metadata": {
        "id": "p4R9E0sFJZfS",
        "colab_type": "code",
        "outputId": "0159bc5c-5fd2-480d-b466-c3f48c9ef8e9",
        "colab": {
          "base_uri": "https://localhost:8080/",
          "height": 34
        }
      },
      "source": [
        "df_all_onehot.shape"
      ],
      "execution_count": 17,
      "outputs": [
        {
          "output_type": "execute_result",
          "data": {
            "text/plain": [
              "(11962, 486)"
            ]
          },
          "metadata": {
            "tags": []
          },
          "execution_count": 17
        }
      ]
    },
    {
      "cell_type": "markdown",
      "metadata": {
        "id": "LDnfBYFMQIeg",
        "colab_type": "text"
      },
      "source": [
        "## Dividing data into train, validation and test set"
      ]
    },
    {
      "cell_type": "markdown",
      "metadata": {
        "id": "RcmaAnPGapON",
        "colab_type": "text"
      },
      "source": [
        "### Train set"
      ]
    },
    {
      "cell_type": "code",
      "metadata": {
        "colab_type": "code",
        "id": "cZG8QPnBcYct",
        "colab": {}
      },
      "source": [
        "idx_train = df_all_onehot.where(df_all_onehot['fold'].isin(np.arange(0,6)))"
      ],
      "execution_count": 0,
      "outputs": []
    },
    {
      "cell_type": "code",
      "metadata": {
        "colab_type": "code",
        "id": "oavIsYmzcYck",
        "colab": {}
      },
      "source": [
        "idx_train = idx_train.dropna()"
      ],
      "execution_count": 0,
      "outputs": []
    },
    {
      "cell_type": "code",
      "metadata": {
        "colab_type": "code",
        "outputId": "61e8ad11-8140-4e4d-bf26-7b870f2a16fe",
        "id": "8artQc54cYcZ",
        "colab": {
          "base_uri": "https://localhost:8080/",
          "height": 34
        }
      },
      "source": [
        "idx_train.shape"
      ],
      "execution_count": 22,
      "outputs": [
        {
          "output_type": "execute_result",
          "data": {
            "text/plain": [
              "(7201, 486)"
            ]
          },
          "metadata": {
            "tags": []
          },
          "execution_count": 22
        }
      ]
    },
    {
      "cell_type": "markdown",
      "metadata": {
        "id": "N3jDVeyjakF7",
        "colab_type": "text"
      },
      "source": [
        "### Validation set"
      ]
    },
    {
      "cell_type": "code",
      "metadata": {
        "id": "9vpAkHyBaOEe",
        "colab_type": "code",
        "colab": {}
      },
      "source": [
        "idx_val = df_all_onehot.where(df_all_onehot['fold'].isin(np.arange(6,7)))"
      ],
      "execution_count": 0,
      "outputs": []
    },
    {
      "cell_type": "code",
      "metadata": {
        "id": "E0It8vBXaUWF",
        "colab_type": "code",
        "colab": {}
      },
      "source": [
        "idx_val = idx_val.dropna()"
      ],
      "execution_count": 0,
      "outputs": []
    },
    {
      "cell_type": "code",
      "metadata": {
        "id": "UuNM9vRdaUgF",
        "colab_type": "code",
        "outputId": "3d2b089d-294f-4390-8493-c98a3573c75e",
        "colab": {
          "base_uri": "https://localhost:8080/",
          "height": 34
        }
      },
      "source": [
        "idx_val.shape"
      ],
      "execution_count": 25,
      "outputs": [
        {
          "output_type": "execute_result",
          "data": {
            "text/plain": [
              "(1213, 486)"
            ]
          },
          "metadata": {
            "tags": []
          },
          "execution_count": 25
        }
      ]
    },
    {
      "cell_type": "markdown",
      "metadata": {
        "id": "31vx3mzhazNw",
        "colab_type": "text"
      },
      "source": [
        "### Test set"
      ]
    },
    {
      "cell_type": "code",
      "metadata": {
        "colab_type": "code",
        "id": "4IAVwYzka6Dd",
        "colab": {}
      },
      "source": [
        "idx_test   = df_all_onehot.where(df_all_onehot['fold'].isin([8,9]))"
      ],
      "execution_count": 0,
      "outputs": []
    },
    {
      "cell_type": "code",
      "metadata": {
        "colab_type": "code",
        "id": "9jOGQ5Paa6Dn",
        "colab": {}
      },
      "source": [
        "idx_test = idx_test.dropna()"
      ],
      "execution_count": 0,
      "outputs": []
    },
    {
      "cell_type": "code",
      "metadata": {
        "colab_type": "code",
        "outputId": "8ef4b017-ca1f-470a-b4eb-c45eb18b4a32",
        "id": "LSxIXFd4a6D0",
        "colab": {
          "base_uri": "https://localhost:8080/",
          "height": 34
        }
      },
      "source": [
        "idx_test .shape"
      ],
      "execution_count": 28,
      "outputs": [
        {
          "output_type": "execute_result",
          "data": {
            "text/plain": [
              "(2353, 486)"
            ]
          },
          "metadata": {
            "tags": []
          },
          "execution_count": 28
        }
      ]
    },
    {
      "cell_type": "markdown",
      "metadata": {
        "id": "pRapmx76RX0w",
        "colab_type": "text"
      },
      "source": [
        "## Find the appropriate value of Alpha/lambda"
      ]
    },
    {
      "cell_type": "markdown",
      "metadata": {
        "id": "-JaqkaBNQIj5",
        "colab_type": "text"
      },
      "source": [
        "## Fit logistic regression on the train dataset"
      ]
    },
    {
      "cell_type": "markdown",
      "metadata": {
        "id": "JLWumqXyTLr0",
        "colab_type": "text"
      },
      "source": [
        "### Data specs"
      ]
    },
    {
      "cell_type": "code",
      "metadata": {
        "id": "KJKDmTYt5nHz",
        "colab_type": "code",
        "colab": {}
      },
      "source": [
        "vars_toUse = [var for var in (vars_ind_numeric + vars_ind_onehot)]"
      ],
      "execution_count": 0,
      "outputs": []
    },
    {
      "cell_type": "code",
      "metadata": {
        "id": "6vgq7fD6Nlcg",
        "colab_type": "code",
        "outputId": "81a521e9-5401-4eaf-f40f-46cd121ef520",
        "colab": {
          "base_uri": "https://localhost:8080/",
          "height": 34
        }
      },
      "source": [
        "len(vars_toUse)"
      ],
      "execution_count": 34,
      "outputs": [
        {
          "output_type": "execute_result",
          "data": {
            "text/plain": [
              "483"
            ]
          },
          "metadata": {
            "tags": []
          },
          "execution_count": 34
        }
      ]
    },
    {
      "cell_type": "code",
      "metadata": {
        "id": "iasfWfxt259d",
        "colab_type": "code",
        "outputId": "49c0bd75-2a8b-4bb2-a4a4-9e34443cb4a5",
        "colab": {
          "base_uri": "https://localhost:8080/",
          "height": 51
        }
      },
      "source": [
        "# \n",
        "print('numeric variables', len(vars_ind_numeric))\n",
        "print('one hot', len(vars_ind_onehot))"
      ],
      "execution_count": 35,
      "outputs": [
        {
          "output_type": "stream",
          "text": [
            "numeric variables 107\n",
            "one hot 376\n"
          ],
          "name": "stdout"
        }
      ]
    },
    {
      "cell_type": "code",
      "metadata": {
        "id": "s4Z6-lrVNlck",
        "colab_type": "code",
        "colab": {
          "base_uri": "https://localhost:8080/",
          "height": 34
        },
        "outputId": "b81c5155-65d5-467d-a58f-01b750cbddd4"
      },
      "source": [
        "X = idx_train[vars_toUse] # model matrix \n",
        "X.shape"
      ],
      "execution_count": 40,
      "outputs": [
        {
          "output_type": "execute_result",
          "data": {
            "text/plain": [
              "(7201, 483)"
            ]
          },
          "metadata": {
            "tags": []
          },
          "execution_count": 40
        }
      ]
    },
    {
      "cell_type": "code",
      "metadata": {
        "id": "K5wltg7pd4lg",
        "colab_type": "code",
        "colab": {}
      },
      "source": [
        "y = idx_train[var_dep] # and target variable\n",
        "y.shape"
      ],
      "execution_count": 0,
      "outputs": []
    },
    {
      "cell_type": "code",
      "metadata": {
        "colab_type": "code",
        "outputId": "7118fea7-452e-4cce-c12c-8204616d45ef",
        "id": "gO4OBHIHdX2V",
        "colab": {
          "base_uri": "https://localhost:8080/",
          "height": 34
        }
      },
      "source": [
        "x_val = idx_val[vars_toUse]\n",
        "x_val.shape"
      ],
      "execution_count": 41,
      "outputs": [
        {
          "output_type": "execute_result",
          "data": {
            "text/plain": [
              "(1213, 483)"
            ]
          },
          "metadata": {
            "tags": []
          },
          "execution_count": 41
        }
      ]
    },
    {
      "cell_type": "code",
      "metadata": {
        "colab_type": "code",
        "outputId": "bba82028-9b34-4768-bba8-f42f8da81c4d",
        "id": "TwURCEP-dX2n",
        "colab": {
          "base_uri": "https://localhost:8080/",
          "height": 34
        }
      },
      "source": [
        "y_val = idx_val[var_dep]\n",
        "y_val.shape"
      ],
      "execution_count": 46,
      "outputs": [
        {
          "output_type": "execute_result",
          "data": {
            "text/plain": [
              "(1213, 1)"
            ]
          },
          "metadata": {
            "tags": []
          },
          "execution_count": 46
        }
      ]
    },
    {
      "cell_type": "code",
      "metadata": {
        "colab_type": "code",
        "outputId": "12a7bcf9-529e-46dd-ddfe-ab74e6788de4",
        "id": "EF4y-lBZdX2y",
        "colab": {
          "base_uri": "https://localhost:8080/",
          "height": 34
        }
      },
      "source": [
        "x_test = idx_test[vars_toUse]\n",
        "x_test.shape"
      ],
      "execution_count": 43,
      "outputs": [
        {
          "output_type": "execute_result",
          "data": {
            "text/plain": [
              "(2353, 483)"
            ]
          },
          "metadata": {
            "tags": []
          },
          "execution_count": 43
        }
      ]
    },
    {
      "cell_type": "code",
      "metadata": {
        "colab_type": "code",
        "outputId": "6274c106-08e7-4914-b08c-7b356f1c61e5",
        "id": "ud7NBSp1dX25",
        "colab": {
          "base_uri": "https://localhost:8080/",
          "height": 34
        }
      },
      "source": [
        "y_test = idx_test[var_dep] # and target variable\n",
        "y_test.shape"
      ],
      "execution_count": 44,
      "outputs": [
        {
          "output_type": "execute_result",
          "data": {
            "text/plain": [
              "(2353, 1)"
            ]
          },
          "metadata": {
            "tags": []
          },
          "execution_count": 44
        }
      ]
    },
    {
      "cell_type": "markdown",
      "metadata": {
        "id": "4cl8vEZaTYB9",
        "colab_type": "text"
      },
      "source": [
        "\n",
        "        We need to scale the coefficients so that they all run over a similar scale of numbers . this will make comparison of coefficients easier.\n",
        "        In this case, we can use the standardscaler function in sklearn to standarduse the values vefore fitting the values\n",
        "        "
      ]
    },
    {
      "cell_type": "markdown",
      "metadata": {
        "id": "lO8a5DJ2TUu5",
        "colab_type": "text"
      },
      "source": [
        "### Standard Scaler"
      ]
    },
    {
      "cell_type": "code",
      "metadata": {
        "id": "PcDe9rRzTYB-",
        "colab_type": "code",
        "colab": {}
      },
      "source": [
        "\n",
        "\n",
        "standardScaler_ = StandardScaler()\n",
        "reg = standardScaler_.fit(X,y)\n",
        "X = standardScaler_.transform(X) #Mean and standard deviation are then stored to be used on later data using the transform method."
      ],
      "execution_count": 0,
      "outputs": []
    },
    {
      "cell_type": "code",
      "metadata": {
        "id": "E11pH3dIHh1Y",
        "colab_type": "code",
        "outputId": "cc25018e-9dea-4dab-f228-c14846e92db8",
        "colab": {
          "base_uri": "https://localhost:8080/",
          "height": 34
        }
      },
      "source": [
        "reg.n_samples_seen_"
      ],
      "execution_count": 51,
      "outputs": [
        {
          "output_type": "execute_result",
          "data": {
            "text/plain": [
              "7201"
            ]
          },
          "metadata": {
            "tags": []
          },
          "execution_count": 51
        }
      ]
    },
    {
      "cell_type": "code",
      "metadata": {
        "id": "MUURDthJTYCF",
        "colab_type": "code",
        "colab": {}
      },
      "source": [
        "# scaled features: means \n",
        "#print(\"scaled features: means: \", np.round(X.mean(axis=0),5) )\n",
        "\n",
        "# scaled features: variance\n",
        "#print(\"scaled features: standard deviation: \", np.round(X.std(axis=0),5) )"
      ],
      "execution_count": 0,
      "outputs": []
    },
    {
      "cell_type": "markdown",
      "metadata": {
        "id": "SNI3oaGvTeA9",
        "colab_type": "text"
      },
      "source": [
        "### Fitting model"
      ]
    },
    {
      "cell_type": "code",
      "metadata": {
        "id": "ipsxujW1wVnm",
        "colab_type": "code",
        "colab": {
          "base_uri": "https://localhost:8080/",
          "height": 255
        },
        "outputId": "e3da1352-991c-4ce9-fc67-878d9f20aa96"
      },
      "source": [
        "# Next, use pip to install this version of the H2O Python module.\n",
        "!pip install http://h2o-release.s3.amazonaws.com/h2o/rel-yates/4/Python/h2o-3.24.0.4-py2.py3-none-any.whl\n"
      ],
      "execution_count": 53,
      "outputs": [
        {
          "output_type": "stream",
          "text": [
            "Collecting h2o==3.24.0.4 from http://h2o-release.s3.amazonaws.com/h2o/rel-yates/4/Python/h2o-3.24.0.4-py2.py3-none-any.whl\n",
            "\u001b[?25l  Downloading http://h2o-release.s3.amazonaws.com/h2o/rel-yates/4/Python/h2o-3.24.0.4-py2.py3-none-any.whl (121.8MB)\n",
            "\u001b[K     |████████████████████████████████| 121.9MB 1.2MB/s \n",
            "\u001b[?25hCollecting colorama>=0.3.8 (from h2o==3.24.0.4)\n",
            "  Downloading https://files.pythonhosted.org/packages/4f/a6/728666f39bfff1719fc94c481890b2106837da9318031f71a8424b662e12/colorama-0.4.1-py2.py3-none-any.whl\n",
            "Requirement already satisfied: tabulate in /usr/local/lib/python3.6/dist-packages (from h2o==3.24.0.4) (0.8.3)\n",
            "Requirement already satisfied: requests in /usr/local/lib/python3.6/dist-packages (from h2o==3.24.0.4) (2.21.0)\n",
            "Requirement already satisfied: future in /usr/local/lib/python3.6/dist-packages (from h2o==3.24.0.4) (0.16.0)\n",
            "Requirement already satisfied: chardet<3.1.0,>=3.0.2 in /usr/local/lib/python3.6/dist-packages (from requests->h2o==3.24.0.4) (3.0.4)\n",
            "Requirement already satisfied: certifi>=2017.4.17 in /usr/local/lib/python3.6/dist-packages (from requests->h2o==3.24.0.4) (2019.3.9)\n",
            "Requirement already satisfied: urllib3<1.25,>=1.21.1 in /usr/local/lib/python3.6/dist-packages (from requests->h2o==3.24.0.4) (1.24.3)\n",
            "Requirement already satisfied: idna<2.9,>=2.5 in /usr/local/lib/python3.6/dist-packages (from requests->h2o==3.24.0.4) (2.8)\n",
            "Installing collected packages: colorama, h2o\n",
            "Successfully installed colorama-0.4.1 h2o-3.24.0.4\n"
          ],
          "name": "stdout"
        }
      ]
    },
    {
      "cell_type": "code",
      "metadata": {
        "id": "etIF__1rVv68",
        "colab_type": "code",
        "colab": {}
      },
      "source": [
        "\n",
        "import h2o\n",
        "from h2o.estimators.glm import H2OGeneralizedLinearEstimator"
      ],
      "execution_count": 0,
      "outputs": []
    },
    {
      "cell_type": "code",
      "metadata": {
        "id": "olAOvr2MkLKC",
        "colab_type": "code",
        "outputId": "4344d6c1-94f5-4a1a-8b64-730ff66a69b1",
        "colab": {
          "base_uri": "https://localhost:8080/",
          "height": 508
        }
      },
      "source": [
        "h2o.init()"
      ],
      "execution_count": 55,
      "outputs": [
        {
          "output_type": "stream",
          "text": [
            "Checking whether there is an H2O instance running at http://localhost:54321 ..... not found.\n",
            "Attempting to start a local H2O server...\n",
            "  Java Version: openjdk version \"11.0.3\" 2019-04-16; OpenJDK Runtime Environment (build 11.0.3+7-Ubuntu-1ubuntu218.04.1); OpenJDK 64-Bit Server VM (build 11.0.3+7-Ubuntu-1ubuntu218.04.1, mixed mode, sharing)\n",
            "  Starting server from /usr/local/lib/python3.6/dist-packages/h2o/backend/bin/h2o.jar\n",
            "  Ice root: /tmp/tmp75hjydqb\n",
            "  JVM stdout: /tmp/tmp75hjydqb/h2o_unknownUser_started_from_python.out\n",
            "  JVM stderr: /tmp/tmp75hjydqb/h2o_unknownUser_started_from_python.err\n",
            "  Server is running at http://127.0.0.1:54321\n",
            "Connecting to H2O server at http://127.0.0.1:54321 ... successful.\n"
          ],
          "name": "stdout"
        },
        {
          "output_type": "display_data",
          "data": {
            "text/html": [
              "<div style=\"overflow:auto\"><table style=\"width:50%\"><tr><td>H2O cluster uptime:</td>\n",
              "<td>02 secs</td></tr>\n",
              "<tr><td>H2O cluster timezone:</td>\n",
              "<td>Etc/UTC</td></tr>\n",
              "<tr><td>H2O data parsing timezone:</td>\n",
              "<td>UTC</td></tr>\n",
              "<tr><td>H2O cluster version:</td>\n",
              "<td>3.24.0.4</td></tr>\n",
              "<tr><td>H2O cluster version age:</td>\n",
              "<td>22 days </td></tr>\n",
              "<tr><td>H2O cluster name:</td>\n",
              "<td>H2O_from_python_unknownUser_bjs27f</td></tr>\n",
              "<tr><td>H2O cluster total nodes:</td>\n",
              "<td>1</td></tr>\n",
              "<tr><td>H2O cluster free memory:</td>\n",
              "<td>3 Gb</td></tr>\n",
              "<tr><td>H2O cluster total cores:</td>\n",
              "<td>2</td></tr>\n",
              "<tr><td>H2O cluster allowed cores:</td>\n",
              "<td>2</td></tr>\n",
              "<tr><td>H2O cluster status:</td>\n",
              "<td>accepting new members, healthy</td></tr>\n",
              "<tr><td>H2O connection url:</td>\n",
              "<td>http://127.0.0.1:54321</td></tr>\n",
              "<tr><td>H2O connection proxy:</td>\n",
              "<td>None</td></tr>\n",
              "<tr><td>H2O internal security:</td>\n",
              "<td>False</td></tr>\n",
              "<tr><td>H2O API Extensions:</td>\n",
              "<td>Amazon S3, XGBoost, Algos, AutoML, Core V3, Core V4</td></tr>\n",
              "<tr><td>Python version:</td>\n",
              "<td>3.6.7 final</td></tr></table></div>"
            ],
            "text/plain": [
              "--------------------------  ---------------------------------------------------\n",
              "H2O cluster uptime:         02 secs\n",
              "H2O cluster timezone:       Etc/UTC\n",
              "H2O data parsing timezone:  UTC\n",
              "H2O cluster version:        3.24.0.4\n",
              "H2O cluster version age:    22 days\n",
              "H2O cluster name:           H2O_from_python_unknownUser_bjs27f\n",
              "H2O cluster total nodes:    1\n",
              "H2O cluster free memory:    3 Gb\n",
              "H2O cluster total cores:    2\n",
              "H2O cluster allowed cores:  2\n",
              "H2O cluster status:         accepting new members, healthy\n",
              "H2O connection url:         http://127.0.0.1:54321\n",
              "H2O connection proxy:\n",
              "H2O internal security:      False\n",
              "H2O API Extensions:         Amazon S3, XGBoost, Algos, AutoML, Core V3, Core V4\n",
              "Python version:             3.6.7 final\n",
              "--------------------------  ---------------------------------------------------"
            ]
          },
          "metadata": {
            "tags": []
          }
        }
      ]
    },
    {
      "cell_type": "code",
      "metadata": {
        "id": "g7s3OTW5lnYW",
        "colab_type": "code",
        "outputId": "83c9d638-f285-464f-adbf-d2abb2583251",
        "colab": {
          "base_uri": "https://localhost:8080/",
          "height": 34
        }
      },
      "source": [
        " h2o_train = h2o.H2OFrame(idx_train,destination_frame = 'idx_train')"
      ],
      "execution_count": 69,
      "outputs": [
        {
          "output_type": "stream",
          "text": [
            "Parse progress: |█████████████████████████████████████████████████████████| 100%\n"
          ],
          "name": "stdout"
        }
      ]
    },
    {
      "cell_type": "code",
      "metadata": {
        "colab_type": "code",
        "outputId": "4c8a42d2-2102-4568-faa3-3a8b5fb6165a",
        "id": "T78D6zBmnU4K",
        "colab": {
          "base_uri": "https://localhost:8080/",
          "height": 34
        }
      },
      "source": [
        " h2o_val = h2o.H2OFrame(idx_val,destination_frame = 'idx_val')"
      ],
      "execution_count": 70,
      "outputs": [
        {
          "output_type": "stream",
          "text": [
            "Parse progress: |█████████████████████████████████████████████████████████| 100%\n"
          ],
          "name": "stdout"
        }
      ]
    },
    {
      "cell_type": "code",
      "metadata": {
        "colab_type": "code",
        "outputId": "393dcd71-fd4d-4abe-d29a-c651da8170e6",
        "id": "9A-oZ9gZnWEj",
        "colab": {
          "base_uri": "https://localhost:8080/",
          "height": 34
        }
      },
      "source": [
        " h2o_test = h2o.H2OFrame(idx_test,destination_frame = 'idx_test')"
      ],
      "execution_count": 71,
      "outputs": [
        {
          "output_type": "stream",
          "text": [
            "Parse progress: |█████████████████████████████████████████████████████████| 100%\n"
          ],
          "name": "stdout"
        }
      ]
    },
    {
      "cell_type": "code",
      "metadata": {
        "id": "ZeEujEDKnDXE",
        "colab_type": "code",
        "colab": {}
      },
      "source": [
        "glm_1 = H2OGeneralizedLinearEstimator(alpha = 1, family = 'binomial', link = 'logit', lambda_search = True)"
      ],
      "execution_count": 0,
      "outputs": []
    },
    {
      "cell_type": "code",
      "metadata": {
        "id": "VEXYPc07nDgu",
        "colab_type": "code",
        "outputId": "1785eef9-c6d7-4818-8a00-1f1f5d0c64a5",
        "colab": {
          "base_uri": "https://localhost:8080/",
          "height": 34
        }
      },
      "source": [
        "glm_1.train(x =vars_toUse,\n",
        "           y = 'target',\n",
        "           training_frame = h2o_train)"
      ],
      "execution_count": 73,
      "outputs": [
        {
          "output_type": "stream",
          "text": [
            "glm Model Build progress: |███████████████████████████████████████████████| 100%\n"
          ],
          "name": "stdout"
        }
      ]
    },
    {
      "cell_type": "markdown",
      "metadata": {
        "id": "JZDvnnsHQ3Nx",
        "colab_type": "text"
      },
      "source": [
        "## Inspect the coefficients"
      ]
    },
    {
      "cell_type": "code",
      "metadata": {
        "id": "AJ__7uq1nDr2",
        "colab_type": "code",
        "outputId": "8941be46-b692-4265-a6e5-20d68b798c8c",
        "colab": {
          "base_uri": "https://localhost:8080/",
          "height": 119
        }
      },
      "source": [
        "df_coef = pd.Series(glm_1.coef())\n",
        "df_coef = df_coef[np.abs(df_coef) > 0]\n",
        "df_coef.head()"
      ],
      "execution_count": 74,
      "outputs": [
        {
          "output_type": "execute_result",
          "data": {
            "text/plain": [
              "Intercept   -5.016436\n",
              "v_num_1      0.035735\n",
              "v_num_2     -0.004763\n",
              "v_num_5     -0.039746\n",
              "v_num_6      0.124928\n",
              "dtype: float64"
            ]
          },
          "metadata": {
            "tags": []
          },
          "execution_count": 74
        }
      ]
    },
    {
      "cell_type": "code",
      "metadata": {
        "id": "amU17qxapXUd",
        "colab_type": "code",
        "outputId": "3f813211-3372-430f-add1-e664c57eb263",
        "colab": {
          "base_uri": "https://localhost:8080/",
          "height": 34
        }
      },
      "source": [
        "# some have been penalised to non existence\n",
        "df_coef.shape"
      ],
      "execution_count": 75,
      "outputs": [
        {
          "output_type": "execute_result",
          "data": {
            "text/plain": [
              "(292,)"
            ]
          },
          "metadata": {
            "tags": []
          },
          "execution_count": 75
        }
      ]
    },
    {
      "cell_type": "code",
      "metadata": {
        "id": "msLbf4oapRaz",
        "colab_type": "code",
        "colab": {}
      },
      "source": [
        "#h2o.predict(object=model, newdata=prostate.test)"
      ],
      "execution_count": 0,
      "outputs": []
    },
    {
      "cell_type": "code",
      "metadata": {
        "id": "wSFsZyq5n9A_",
        "colab_type": "code",
        "colab": {}
      },
      "source": [
        "#predictions = h2o.predict(glm_1, newdata = h2o_train)"
      ],
      "execution_count": 0,
      "outputs": []
    },
    {
      "cell_type": "code",
      "metadata": {
        "id": "e9_FknmJpao2",
        "colab_type": "code",
        "colab": {}
      },
      "source": [
        "glm_1.std_coef_plot()"
      ],
      "execution_count": 0,
      "outputs": []
    },
    {
      "cell_type": "markdown",
      "metadata": {
        "id": "hzOTkF6hUi7C",
        "colab_type": "text"
      },
      "source": [
        "## Predictions on train, Validation and test set"
      ]
    },
    {
      "cell_type": "markdown",
      "metadata": {
        "id": "6rrUOOi4Q67x",
        "colab_type": "text"
      },
      "source": [
        "## Calculate the error in the train, validation and test datasets\n",
        "\n",
        "We should use the loglik loss function"
      ]
    },
    {
      "cell_type": "markdown",
      "metadata": {
        "id": "lrUvLGnbUzbH",
        "colab_type": "text"
      },
      "source": [
        "### Loss function"
      ]
    }
  ]
}