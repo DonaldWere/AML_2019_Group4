{
 "cells": [
  {
   "cell_type": "markdown",
   "metadata": {
    "ExecuteTime": {
     "end_time": "2019-06-21T01:06:25.544768Z",
     "start_time": "2019-06-21T01:06:25.534782Z"
    }
   },
   "source": [
    "# GRADIENT DESCENT\n",
    "## Importance of Gradient Descent in Machine Learning\n",
    "\n",
    "Plain vanilla gradient descent in one dimension.\n",
    "\n",
    "First:\n",
    " - Choose a starting point \n",
    " - Find the gradient at the starting point\n",
    " - If it is close to zero then stop\n",
    " - Otherwise iterate\n",
    "\n",
    "Iterate as follows:\n",
    " - Take a small step in the downhill direction (opposite to the gradient)\n",
    " - Find the gradient\n",
    " - If it is close to zero then stop\n"
   ]
  },
  {
   "cell_type": "code",
   "execution_count": null,
   "metadata": {},
   "outputs": [],
   "source": []
  },
  {
   "cell_type": "markdown",
   "metadata": {},
   "source": [
    "## Initializing the Six-Himp Camel Function"
   ]
  },
  {
   "cell_type": "code",
   "execution_count": 1,
   "metadata": {
    "ExecuteTime": {
     "end_time": "2019-06-21T16:15:35.536972Z",
     "start_time": "2019-06-21T16:15:34.256861Z"
    }
   },
   "outputs": [],
   "source": [
    "import numpy as np\n",
    "import math as mt\n",
    "import Gradient_descent_exercise\n"
   ]
  },
  {
   "cell_type": "code",
   "execution_count": 2,
   "metadata": {
    "ExecuteTime": {
     "end_time": "2019-06-21T16:15:35.570050Z",
     "start_time": "2019-06-21T16:15:35.549018Z"
    }
   },
   "outputs": [],
   "source": [
    "def fn_loss(x, y):\n",
    "    return  2*x**2 - 1.05*(x**4) + (x**6)/6 + (x*y) + (y**2)\n",
    "    \n",
    "def fn_grad1(x,y):\n",
    "    return 4*x - 4.2*(x**3) + x**5 + y\n",
    "\n",
    "def fn_grad2(x,y):\n",
    "    return x + 2*y"
   ]
  },
  {
   "cell_type": "code",
   "execution_count": 3,
   "metadata": {
    "ExecuteTime": {
     "end_time": "2019-06-21T16:15:35.663763Z",
     "start_time": "2019-06-21T16:15:35.572391Z"
    }
   },
   "outputs": [],
   "source": [
    "solver = Gradient_descent_exercise.gradient_descent(fn_loss = fn_loss, fn_grad1 = fn_grad1, fn_grad2 = fn_grad2)"
   ]
  },
  {
   "cell_type": "code",
   "execution_count": null,
   "metadata": {},
   "outputs": [],
   "source": []
  },
  {
   "cell_type": "markdown",
   "metadata": {
    "ExecuteTime": {
     "end_time": "2019-06-21T15:17:15.140805Z",
     "start_time": "2019-06-21T15:17:15.134897Z"
    }
   },
   "source": [
    "### Deterning bound for the steps"
   ]
  },
  {
   "cell_type": "markdown",
   "metadata": {},
   "source": [
    "The Three-Hump Camel function is usually evaluated on the square xi ∈ [-5, 5], for all i = 1, 2. "
   ]
  },
  {
   "cell_type": "markdown",
   "metadata": {},
   "source": [
    "Given an initial starting point of (x_init, y_init) = (5 ,5), then:\n",
    "    The step size(eta) should be such that:\n",
    "        x_init - eta * gradient_x is within the region [-5, 5] and\n",
    "        y_init - eta * gradient_y is within the region [-5, 5]"
   ]
  },
  {
   "cell_type": "code",
   "execution_count": 4,
   "metadata": {
    "ExecuteTime": {
     "end_time": "2019-06-21T16:15:35.890469Z",
     "start_time": "2019-06-21T16:15:35.668847Z"
    }
   },
   "outputs": [
    {
     "data": {
      "text/plain": [
       "2625.0"
      ]
     },
     "execution_count": 4,
     "metadata": {},
     "output_type": "execute_result"
    }
   ],
   "source": [
    "#Gradient with respect to x is\n",
    "fn_grad1(5,5)"
   ]
  },
  {
   "cell_type": "code",
   "execution_count": 5,
   "metadata": {
    "ExecuteTime": {
     "end_time": "2019-06-21T16:15:36.005525Z",
     "start_time": "2019-06-21T16:15:35.899582Z"
    }
   },
   "outputs": [
    {
     "data": {
      "text/plain": [
       "15"
      ]
     },
     "execution_count": 5,
     "metadata": {},
     "output_type": "execute_result"
    }
   ],
   "source": [
    "#Gradient with respect to x is\n",
    "fn_grad2(5,5)"
   ]
  },
  {
   "cell_type": "code",
   "execution_count": 6,
   "metadata": {
    "ExecuteTime": {
     "end_time": "2019-06-21T16:15:36.187889Z",
     "start_time": "2019-06-21T16:15:36.008188Z"
    }
   },
   "outputs": [
    {
     "name": "stdout",
     "output_type": "stream",
     "text": [
      "0.0038095238095238095\n"
     ]
    }
   ],
   "source": [
    "#Step size therefore is:\n",
    "step_size1 = (-5-5)/(-fn_grad1(5,5))\n",
    "step_size2 = (-5-5)/(-fn_grad2(5,5))\n",
    "\n",
    "print(np.minimum(step_size1,step_size2))"
   ]
  },
  {
   "cell_type": "markdown",
   "metadata": {},
   "source": [
    "The step size thefore should be less than 0.0038 for gradient descent to yield the desired results "
   ]
  },
  {
   "cell_type": "code",
   "execution_count": null,
   "metadata": {},
   "outputs": [],
   "source": []
  },
  {
   "cell_type": "markdown",
   "metadata": {},
   "source": [
    "### Minimum of the function with a step size of 0.001"
   ]
  },
  {
   "cell_type": "code",
   "execution_count": 7,
   "metadata": {
    "ExecuteTime": {
     "end_time": "2019-06-21T16:15:36.362368Z",
     "start_time": "2019-06-21T16:15:36.187889Z"
    }
   },
   "outputs": [
    {
     "data": {
      "text/plain": [
       "15421"
      ]
     },
     "execution_count": 7,
     "metadata": {},
     "output_type": "execute_result"
    }
   ],
   "source": [
    "solver.find_min(x_init = 5, y_init = 5, max_iter = 1000000, eta = 0.001, tol = 1e-10)\n"
   ]
  },
  {
   "cell_type": "code",
   "execution_count": 8,
   "metadata": {
    "ExecuteTime": {
     "end_time": "2019-06-21T16:15:36.385781Z",
     "start_time": "2019-06-21T16:15:36.365770Z"
    },
    "scrolled": true
   },
   "outputs": [
    {
     "name": "stdout",
     "output_type": "stream",
     "text": [
      "The minimum of the loss function is 3.6771201792461436e-21\n",
      "The value of x which generates the minimum is -2.60658781148321e-11\n",
      "The value of y which generates the minimum is 6.29139742905174e-11\n"
     ]
    }
   ],
   "source": [
    "print('The minimum of the loss function is {}'.format((solver.loss_fn_min)))\n",
    "print('The value of x which generates the minimum is {}'.format((solver.x_at_min)))\n",
    "print('The value of y which generates the minimum is {}'.format((solver.y_at_min)))"
   ]
  },
  {
   "cell_type": "code",
   "execution_count": null,
   "metadata": {},
   "outputs": [],
   "source": []
  },
  {
   "cell_type": "markdown",
   "metadata": {},
   "source": [
    "### Path of the loss function for a step size of 0.001"
   ]
  },
  {
   "cell_type": "code",
   "execution_count": 9,
   "metadata": {
    "ExecuteTime": {
     "end_time": "2019-06-21T16:15:42.413697Z",
     "start_time": "2019-06-21T16:15:36.385781Z"
    }
   },
   "outputs": [
    {
     "data": {
      "text/plain": [
       "Text(0, 0.5, 'Loss')"
      ]
     },
     "execution_count": 9,
     "metadata": {},
     "output_type": "execute_result"
    },
    {
     "data": {
      "image/png": "[encoded data removed]",
      "text/plain": [
       "<Figure size 1440x1152 with 1 Axes>"
      ]
     },
     "metadata": {
      "needs_background": "light"
     },
     "output_type": "display_data"
    }
   ],
   "source": [
    "import matplotlib\n",
    "import matplotlib.pyplot as plt\n",
    "%matplotlib inline\n",
    "font = {'size': 18}\n",
    "matplotlib.rc('font', **font)\n",
    "\n",
    "fig = plt.figure(figsize=(20, 16))\n",
    "ax1 = fig.add_subplot(1, 1, 1)\n",
    "ax1.scatter(solver.n_iter, solver.loss_path)\n",
    "ax1.set_xlabel('No. of Iterations')\n",
    "ax1.set_ylabel('Loss')\n",
    "\n",
    "#from scipy.interpolate import make_interp_spline, BSpline\n",
    "#spl = make_interp_spline(eta_x, iterations_y, k=3) \n",
    "#eta_x = np.array(eta)\n",
    "#iterations_y = np.array(iterations)\n",
    "#x_smooth= np.linspace(eta_x.min(), eta_x.max(), 100)\n",
    "#y_smooth= spl(x_smooth)\n",
    "#ax1.plot(x_smooth, y_smooth)\n"
   ]
  },
  {
   "cell_type": "markdown",
   "metadata": {
    "ExecuteTime": {
     "end_time": "2019-06-21T10:35:13.370219Z",
     "start_time": "2019-06-21T10:35:13.366183Z"
    }
   },
   "source": [
    "### Doubling the step size"
   ]
  },
  {
   "cell_type": "code",
   "execution_count": 10,
   "metadata": {
    "ExecuteTime": {
     "end_time": "2019-06-21T16:15:42.458368Z",
     "start_time": "2019-06-21T16:15:42.415905Z"
    }
   },
   "outputs": [
    {
     "name": "stdout",
     "output_type": "stream",
     "text": [
      "6511\n"
     ]
    }
   ],
   "source": [
    "solver.find_min(x_init = 5, y_init = 5, max_iter = 100000, eta = 0.002, tol = 1e-10)\n",
    "print(solver.num_iters)"
   ]
  },
  {
   "cell_type": "code",
   "execution_count": 11,
   "metadata": {
    "ExecuteTime": {
     "end_time": "2019-06-21T16:15:42.550823Z",
     "start_time": "2019-06-21T16:15:42.462519Z"
    }
   },
   "outputs": [
    {
     "name": "stdout",
     "output_type": "stream",
     "text": [
      "The minimum of the loss function is 0.29863844223685965\n",
      "The value of x which generates the minimum is -1.7475523458353897\n",
      "The value of y which generates the minimum is 0.8737761729674274\n"
     ]
    }
   ],
   "source": [
    "print('The minimum of the loss function is {}'.format((solver.loss_fn_min)))\n",
    "print('The value of x which generates the minimum is {}'.format((solver.x_at_min)))\n",
    "print('The value of y which generates the minimum is {}'.format((solver.y_at_min)))"
   ]
  },
  {
   "cell_type": "markdown",
   "metadata": {},
   "source": [
    "When the step size is doubled from 0.001 to 0.002, the number of iterations needed to arrive at the global minimum of the function decrease from 1,601 to 797\n",
    "\n",
    "This implies that the number of iterations needed to arrive at the global minimum have been greatly reduced"
   ]
  },
  {
   "cell_type": "code",
   "execution_count": null,
   "metadata": {},
   "outputs": [],
   "source": []
  },
  {
   "cell_type": "markdown",
   "metadata": {
    "ExecuteTime": {
     "end_time": "2019-06-21T10:35:13.370219Z",
     "start_time": "2019-06-21T10:35:13.366183Z"
    }
   },
   "source": [
    "### Halfing the step size"
   ]
  },
  {
   "cell_type": "code",
   "execution_count": 12,
   "metadata": {
    "ExecuteTime": {
     "end_time": "2019-06-21T16:15:42.811445Z",
     "start_time": "2019-06-21T16:15:42.553484Z"
    }
   },
   "outputs": [
    {
     "name": "stdout",
     "output_type": "stream",
     "text": [
      "30798\n"
     ]
    }
   ],
   "source": [
    "solver.find_min(x_init = 5, y_init = 5, max_iter = 100000, eta = 0.0005, tol = 1e-10)\n",
    "print(solver.num_iters)"
   ]
  },
  {
   "cell_type": "code",
   "execution_count": 13,
   "metadata": {
    "ExecuteTime": {
     "end_time": "2019-06-21T16:15:42.825188Z",
     "start_time": "2019-06-21T16:15:42.814964Z"
    }
   },
   "outputs": [
    {
     "name": "stdout",
     "output_type": "stream",
     "text": [
      "The minimum of the loss function is 3.681635104152193e-21\n",
      "The value of x which generates the minimum is -2.607928837202951e-11\n",
      "The value of y which generates the minimum is 6.295365885791942e-11\n"
     ]
    }
   ],
   "source": [
    "print('The minimum of the loss function is {}'.format((solver.loss_fn_min)))\n",
    "print('The value of x which generates the minimum is {}'.format((solver.x_at_min)))\n",
    "print('The value of y which generates the minimum is {}'.format((solver.y_at_min)))"
   ]
  },
  {
   "cell_type": "code",
   "execution_count": null,
   "metadata": {},
   "outputs": [],
   "source": []
  },
  {
   "cell_type": "markdown",
   "metadata": {},
   "source": [
    "### Graphical representation of effect of chnaging the step size"
   ]
  },
  {
   "cell_type": "code",
   "execution_count": 20,
   "metadata": {
    "ExecuteTime": {
     "end_time": "2019-06-21T16:19:42.809269Z",
     "start_time": "2019-06-21T16:19:05.374532Z"
    },
    "scrolled": true
   },
   "outputs": [],
   "source": [
    "eta = np.linspace(0.001, 0.0038,num=500, endpoint=True)\n",
    "iterations = []\n",
    "for z in eta:\n",
    "    iters = solver.find_min(x_init = 5, y_init = 5, max_iter = 100000, eta = z, tol = 1e-10)\n",
    "    iterations.append(iters)\n",
    "    "
   ]
  },
  {
   "cell_type": "markdown",
   "metadata": {
    "ExecuteTime": {
     "end_time": "2019-06-21T16:09:01.490952Z",
     "start_time": "2019-06-21T16:07:51.260024Z"
    }
   },
   "source": [
    "eta = np.linspace(0.0005,0.002,num=500, endpoint=True)\n",
    "for z in eta:\n",
    "    solver.find_min(x_init = 3, y_init=2, max_iter = 100000, eta = z, tol = 1e-10)"
   ]
  },
  {
   "cell_type": "code",
   "execution_count": 21,
   "metadata": {
    "ExecuteTime": {
     "end_time": "2019-06-21T16:19:42.998880Z",
     "start_time": "2019-06-21T16:19:42.993681Z"
    }
   },
   "outputs": [
    {
     "name": "stdout",
     "output_type": "stream",
     "text": [
      "500\n",
      "500\n"
     ]
    }
   ],
   "source": [
    "print(len(iterations))\n",
    "print(len(eta))"
   ]
  },
  {
   "cell_type": "code",
   "execution_count": 22,
   "metadata": {
    "ExecuteTime": {
     "end_time": "2019-06-21T16:19:43.750093Z",
     "start_time": "2019-06-21T16:19:43.195050Z"
    },
    "scrolled": false
   },
   "outputs": [
    {
     "data": {
      "text/plain": [
       "Text(0, 0.5, 'No. of Iterations')"
      ]
     },
     "execution_count": 22,
     "metadata": {},
     "output_type": "execute_result"
    },
    {
     "data": {
      "image/png": "[encoded data removed]",
      "text/plain": [
       "<Figure size 1440x1152 with 1 Axes>"
      ]
     },
     "metadata": {
      "needs_background": "light"
     },
     "output_type": "display_data"
    }
   ],
   "source": [
    "import matplotlib\n",
    "import matplotlib.pyplot as plt\n",
    "%matplotlib inline\n",
    "font = {'size': 18}\n",
    "matplotlib.rc('font', **font)\n",
    "\n",
    "fig = plt.figure(figsize=(20, 16))\n",
    "ax1 = fig.add_subplot(1, 1, 1)\n",
    "ax1.plot(eta, iterations)\n",
    "ax1.set_xlabel('Step Size')\n",
    "ax1.set_ylabel('No. of Iterations')\n",
    "\n"
   ]
  },
  {
   "cell_type": "code",
   "execution_count": null,
   "metadata": {},
   "outputs": [],
   "source": []
  },
  {
   "cell_type": "code",
   "execution_count": 23,
   "metadata": {
    "ExecuteTime": {
     "end_time": "2019-06-21T16:19:43.956109Z",
     "start_time": "2019-06-21T16:19:43.932114Z"
    }
   },
   "outputs": [
    {
     "name": "stdout",
     "output_type": "stream",
     "text": [
      "3453\n"
     ]
    }
   ],
   "source": [
    "solver.find_min(x_init = 5, y_init = 5, max_iter = 100000, eta = 0.0038, tol = 1e-10)\n",
    "print(solver.num_iters)"
   ]
  },
  {
   "cell_type": "code",
   "execution_count": 24,
   "metadata": {
    "ExecuteTime": {
     "end_time": "2019-06-21T16:19:44.175973Z",
     "start_time": "2019-06-21T16:19:44.142132Z"
    }
   },
   "outputs": [
    {
     "name": "stdout",
     "output_type": "stream",
     "text": [
      "4377\n"
     ]
    }
   ],
   "source": [
    "solver.find_min(x_init = 5, y_init = 5, max_iter = 100000, eta = 0.003, tol = 1e-10)\n",
    "print(solver.num_iters)"
   ]
  },
  {
   "cell_type": "code",
   "execution_count": 25,
   "metadata": {
    "ExecuteTime": {
     "end_time": "2019-06-21T16:19:44.404902Z",
     "start_time": "2019-06-21T16:19:44.396881Z"
    }
   },
   "outputs": [
    {
     "data": {
      "text/plain": [
       "9.946138736616206e-06"
      ]
     },
     "execution_count": 25,
     "metadata": {},
     "output_type": "execute_result"
    }
   ],
   "source": [
    "fn_grad2(1.7475518357853348,-0.8737709448232991)"
   ]
  },
  {
   "cell_type": "code",
   "execution_count": null,
   "metadata": {},
   "outputs": [],
   "source": []
  }
 ],
 "metadata": {
  "kernelspec": {
   "display_name": "Python 3",
   "language": "python",
   "name": "python3"
  },
  "language_info": {
   "codemirror_mode": {
    "name": "ipython",
    "version": 3
   },
   "file_extension": ".py",
   "mimetype": "text/x-python",
   "name": "python",
   "nbconvert_exporter": "python",
   "pygments_lexer": "ipython3",
   "version": "3.7.1"
  },
  "toc": {
   "base_numbering": 1,
   "nav_menu": {},
   "number_sections": true,
   "sideBar": true,
   "skip_h1_title": false,
   "title_cell": "Table of Contents",
   "title_sidebar": "Contents",
   "toc_cell": false,
   "toc_position": {
    "height": "475px",
    "left": "1092.8px",
    "top": "111.14px",
    "width": "273.2px"
   },
   "toc_section_display": true,
   "toc_window_display": true
  },
  "varInspector": {
   "cols": {
    "lenName": 16,
    "lenType": 16,
    "lenVar": 40
   },
   "kernels_config": {
    "python": {
     "delete_cmd_postfix": "",
     "delete_cmd_prefix": "del ",
     "library": "var_list.py",
     "varRefreshCmd": "print(var_dic_list())"
    },
    "r": {
     "delete_cmd_postfix": ") ",
     "delete_cmd_prefix": "rm(",
     "library": "var_list.r",
     "varRefreshCmd": "cat(var_dic_list()) "
    }
   },
   "types_to_exclude": [
    "module",
    "function",
    "builtin_function_or_method",
    "instance",
    "_Feature"
   ],
   "window_display": false
  }
 },
 "nbformat": 4,
 "nbformat_minor": 1
}
